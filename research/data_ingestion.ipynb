{
 "cells": [
  {
   "cell_type": "code",
   "execution_count": 2,
   "id": "094f4d28",
   "metadata": {},
   "outputs": [],
   "source": [
    "import os"
   ]
  },
  {
   "cell_type": "code",
   "execution_count": 3,
   "id": "dc70bece",
   "metadata": {},
   "outputs": [
    {
     "data": {
      "text/plain": [
       "'/Users/sujairibrahim/ML-Projects/DS/DS-Prediction_Project/research'"
      ]
     },
     "execution_count": 3,
     "metadata": {},
     "output_type": "execute_result"
    }
   ],
   "source": [
    "%pwd"
   ]
  },
  {
   "cell_type": "code",
   "execution_count": 4,
   "id": "ee6d9537",
   "metadata": {},
   "outputs": [
    {
     "data": {
      "text/plain": [
       "'/Users/sujairibrahim/ML-Projects/DS/DS-Prediction_Project'"
      ]
     },
     "execution_count": 4,
     "metadata": {},
     "output_type": "execute_result"
    }
   ],
   "source": [
    "os.chdir('../')\n",
    "%pwd"
   ]
  },
  {
   "cell_type": "code",
   "execution_count": 5,
   "id": "40a56182",
   "metadata": {},
   "outputs": [],
   "source": [
    "from dataclasses import dataclass\n",
    "from pathlib import Path\n",
    "\n",
    "@dataclass\n",
    "class DataIngestionConfig:\n",
    "    root_dir: Path\n",
    "    source_URL: str\n",
    "    local_data_file: Path\n",
    "    unzip_dir: Path"
   ]
  },
  {
   "cell_type": "code",
   "execution_count": 6,
   "id": "c3e252eb",
   "metadata": {},
   "outputs": [
    {
     "name": "stdout",
     "output_type": "stream",
     "text": [
      "Unexpected exception formatting exception. Falling back to standard exception\n"
     ]
    },
    {
     "name": "stderr",
     "output_type": "stream",
     "text": [
      "Traceback (most recent call last):\n",
      "  File \"/Users/sujairibrahim/ML-Projects/DS/DS-Prediction_Project/dspredenv/lib/python3.11/site-packages/IPython/core/interactiveshell.py\", line 3699, in run_code\n",
      "  File \"/var/folders/s0/smpstk6x2kd_pppyythh4r300000gn/T/ipykernel_77398/1436609531.py\", line 2, in <module>\n",
      "    from src.datascience.utils.common import read_yaml, create_directories\n",
      "  File \"/Users/sujairibrahim/ML-Projects/DS/DS-Prediction_Project/src/datascience/utils/common.py\", line 2, in <module>\n",
      "    import yaml\n",
      "ModuleNotFoundError: No module named 'yaml'\n",
      "\n",
      "During handling of the above exception, another exception occurred:\n",
      "\n",
      "Traceback (most recent call last):\n",
      "  File \"/Users/sujairibrahim/ML-Projects/DS/DS-Prediction_Project/dspredenv/lib/python3.11/site-packages/executing/executing.py\", line 317, in executing\n",
      "KeyError: (<code object run_code at 0x12a6aeb70, file \"/Users/sujairibrahim/ML-Projects/DS/DS-Prediction_Project/dspredenv/lib/python3.11/site-packages/IPython/core/interactiveshell.py\", line 3663>, 5006617456, 202)\n",
      "\n",
      "During handling of the above exception, another exception occurred:\n",
      "\n",
      "Traceback (most recent call last):\n",
      "  File \"/Users/sujairibrahim/ML-Projects/DS/DS-Prediction_Project/dspredenv/lib/python3.11/site-packages/IPython/core/interactiveshell.py\", line 2194, in showtraceback\n",
      "  File \"/Users/sujairibrahim/ML-Projects/DS/DS-Prediction_Project/dspredenv/lib/python3.11/site-packages/IPython/core/ultratb.py\", line 1182, in structured_traceback\n",
      "  File \"/Users/sujairibrahim/ML-Projects/DS/DS-Prediction_Project/dspredenv/lib/python3.11/site-packages/IPython/core/ultratb.py\", line 1053, in structured_traceback\n",
      "  File \"/Users/sujairibrahim/ML-Projects/DS/DS-Prediction_Project/dspredenv/lib/python3.11/site-packages/IPython/core/ultratb.py\", line 861, in structured_traceback\n",
      "  File \"/Users/sujairibrahim/ML-Projects/DS/DS-Prediction_Project/dspredenv/lib/python3.11/site-packages/IPython/core/ultratb.py\", line 746, in format_exception_as_a_whole\n",
      "  File \"/Users/sujairibrahim/ML-Projects/DS/DS-Prediction_Project/dspredenv/lib/python3.11/site-packages/IPython/core/ultratb.py\", line 848, in get_records\n",
      "  File \"/Users/sujairibrahim/ML-Projects/DS/DS-Prediction_Project/dspredenv/lib/python3.11/site-packages/stack_data/core.py\", line 597, in stack_data\n",
      "  File \"/Users/sujairibrahim/ML-Projects/DS/DS-Prediction_Project/dspredenv/lib/python3.11/site-packages/stack_data/utils.py\", line 84, in collapse_repeated\n",
      "  File \"/Users/sujairibrahim/ML-Projects/DS/DS-Prediction_Project/dspredenv/lib/python3.11/site-packages/stack_data/core.py\", line 587, in mapper\n",
      "  File \"/Users/sujairibrahim/ML-Projects/DS/DS-Prediction_Project/dspredenv/lib/python3.11/site-packages/stack_data/core.py\", line 551, in __init__\n",
      "  File \"/Users/sujairibrahim/ML-Projects/DS/DS-Prediction_Project/dspredenv/lib/python3.11/site-packages/executing/executing.py\", line 372, in executing\n",
      "  File \"/Users/sujairibrahim/ML-Projects/DS/DS-Prediction_Project/dspredenv/lib/python3.11/site-packages/executing/executing.py\", line 252, in for_frame\n",
      "  File \"/Users/sujairibrahim/ML-Projects/DS/DS-Prediction_Project/dspredenv/lib/python3.11/site-packages/executing/executing.py\", line 270, in for_filename\n",
      "  File \"/Users/sujairibrahim/ML-Projects/DS/DS-Prediction_Project/dspredenv/lib/python3.11/site-packages/executing/executing.py\", line 281, in _for_filename_and_lines\n",
      "  File \"/Users/sujairibrahim/ML-Projects/DS/DS-Prediction_Project/dspredenv/lib/python3.11/site-packages/stack_data/core.py\", line 97, in __init__\n",
      "  File \"/Users/sujairibrahim/ML-Projects/DS/DS-Prediction_Project/dspredenv/lib/python3.11/site-packages/executing/executing.py\", line 416, in asttokens\n",
      "  File \"/Users/sujairibrahim/ML-Projects/DS/DS-Prediction_Project/dspredenv/lib/python3.11/site-packages/asttokens/asttokens.py\", line 120, in __init__\n",
      "  File \"/Users/sujairibrahim/ML-Projects/DS/DS-Prediction_Project/dspredenv/lib/python3.11/site-packages/asttokens/asttokens.py\", line 131, in mark_tokens\n",
      "ModuleNotFoundError: No module named 'asttokens.mark_tokens'\n"
     ]
    }
   ],
   "source": [
    "from src.datascience.constants import *\n",
    "from src.datascience.utils.common import read_yaml, create_directories"
   ]
  },
  {
   "cell_type": "code",
   "execution_count": null,
   "id": "5ae978d6",
   "metadata": {},
   "outputs": [],
   "source": []
  }
 ],
 "metadata": {
  "kernelspec": {
   "display_name": "dspredenv",
   "language": "python",
   "name": "python3"
  },
  "language_info": {
   "codemirror_mode": {
    "name": "ipython",
    "version": 3
   },
   "file_extension": ".py",
   "mimetype": "text/x-python",
   "name": "python",
   "nbconvert_exporter": "python",
   "pygments_lexer": "ipython3",
   "version": "3.11.9"
  }
 },
 "nbformat": 4,
 "nbformat_minor": 5
}
